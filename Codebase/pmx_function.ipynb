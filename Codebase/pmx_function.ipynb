{
 "cells": [
  {
   "cell_type": "markdown",
   "metadata": {},
   "source": [
    "# PMX Function"
   ]
  },
  {
   "cell_type": "code",
   "execution_count": 1,
   "metadata": {},
   "outputs": [],
   "source": [
    "import numpy as np\n",
    "\n",
    "def pmx_sequencing(parent, start_point, end_point, core, core_pairs):\n",
    "        \n",
    "    # Adding Prefix, Core and Suffix Sequences to Create Base Child Object.\n",
    "    prefix = parent[:start_point]\n",
    "    suffix = parent[end_point:]\n",
    "    child = prefix + core + suffix\n",
    "    \n",
    "    # Prefix Sequencing\n",
    "    for index, value in enumerate(prefix):\n",
    "        check = 0\n",
    "        for pair in core_pairs:\n",
    "            if value == pair[0]:\n",
    "                child[index] = pair[1]\n",
    "                check = 1\n",
    "                break\n",
    "        if check == 0:\n",
    "            child[index] = value\n",
    "    \n",
    "    # Suffix Sequencing\n",
    "    for index, value in enumerate(suffix):\n",
    "        check = 0\n",
    "        for pair in core_pairs:\n",
    "            if value == pair[0]:\n",
    "                child[index + end_point] = pair[1]\n",
    "                check = 1\n",
    "                break\n",
    "        if check == 0:\n",
    "            child[index + end_point] = value\n",
    "    \n",
    "    # Checks what unique numbers are used within the sequence.\n",
    "    unique_numbers=np.unique(child)\n",
    "    \n",
    "    # Check for when all numbers are used in sequence. Once condition is met recursion stops.\n",
    "    if len(child)>len(unique_numbers):\n",
    "        child=pmx_sequencing(child, start_point, end_point, core, core_pairs)\n",
    "        \n",
    "    return(child)\n",
    "    \n",
    "def calc_pmx_child(parent1, parent2, crossover_points):\n",
    "    \n",
    "    start_point = crossover_points[0]\n",
    "    end_point = crossover_points[-1]\n",
    "    core_pairs = []\n",
    "\n",
    "    core1, core2 = parent1[start_point:end_point], parent2[start_point:end_point]\n",
    "    \n",
    "    # Get Core Pairs\n",
    "    for index in range(len(core1)):\n",
    "        core_pairs.append([core2[index], core1[index]])\n",
    "    \n",
    "    child = pmx_sequencing(parent1, start_point, end_point, core2, core_pairs)\n",
    "    \n",
    "    return child\n",
    "\n",
    "def pmx_crossover(parent1, parent2, crossover_points):\n",
    "    \n",
    "    child1 = calc_pmx_child(parent1, parent2, crossover_points)\n",
    "    child2 = calc_pmx_child(parent2, parent1, crossover_points)\n",
    "    \n",
    "    return child1, child2"
   ]
  }
 ],
 "metadata": {
  "kernelspec": {
   "display_name": "Python 3",
   "language": "python",
   "name": "python3"
  },
  "language_info": {
   "codemirror_mode": {
    "name": "ipython",
    "version": 3
   },
   "file_extension": ".py",
   "mimetype": "text/x-python",
   "name": "python",
   "nbconvert_exporter": "python",
   "pygments_lexer": "ipython3",
   "version": "3.7.4"
  }
 },
 "nbformat": 4,
 "nbformat_minor": 2
}
